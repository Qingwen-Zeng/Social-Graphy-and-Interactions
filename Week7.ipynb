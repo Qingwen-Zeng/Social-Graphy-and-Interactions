{
 "cells": [
  {
   "cell_type": "markdown",
   "metadata": {},
   "source": [
    "# Overview\n",
    "\n",
    "This week's curriculum focuses in figuring out (and visualizing) what's special about a certain text (or collection of texts). We'll also learn about community detection in networks (that's how we'll get our groups of text)\n",
    "\n",
    "* Tricks for raw text (NLPP, Chapter 3).\n",
    "* Community Detection and info-boxes \n",
    "* Identifying important words in a document (TF-IDF)\n",
    "\n",
    "In the first part, we will take a quick tour of NLPP1e's chapter 3, which is boring, but an amazing ressource that you'll keep returning to. Then we'll talk about how we can use simple statistics & machine learning to get text to show us what it's all about. We will even do a little visualization. \n",
    "\n",
    "In the latter parts we will go back to network science, discussing community detection, mixing in some NLP, and trying it all out on our very own dataset.\n"
   ]
  },
  {
   "cell_type": "markdown",
   "metadata": {},
   "source": [
    "# Part 1: Processing real text (from out on the inter-webs)\n",
    "\n",
    "Ok. So Chapter 3 in NLPP is all about working with text from the real world. Getting text from this internet, cleaning it, tokenizing, modifying (e.g. stemming, converting to lower case, etc) to get the text in shape to work with the NLTK tools you've already learned about - and many more. \n",
    "\n",
    "In the process we'll learn more about regular expressions, as well as unicode; something we've already been struggling with a little bit will now be explained in more detail. \n",
    "> \n",
    "> **Video lecture**: Short overview of chapter 3 + a few words about kinds of language processing that we don't address in this class. \n",
    "> "
   ]
  },
  {
   "cell_type": "code",
   "execution_count": 3,
   "metadata": {},
   "outputs": [
    {
     "data": {
      "image/jpeg": "[encoded data removed]",
      "text/html": [
       "\n",
       "        <iframe\n",
       "            width=\"800\"\n",
       "            height=\"450\"\n",
       "            src=\"https://www.youtube.com/embed/Rwakh-HXPJk\"\n",
       "            frameborder=\"0\"\n",
       "            allowfullscreen\n",
       "            \n",
       "        ></iframe>\n",
       "        "
      ],
      "text/plain": [
       "<IPython.lib.display.YouTubeVideo at 0x1db8d3128f0>"
      ]
     },
     "execution_count": 3,
     "metadata": {},
     "output_type": "execute_result"
    }
   ],
   "source": [
    "from IPython.display import YouTubeVideo\n",
    "YouTubeVideo(\"Rwakh-HXPJk\",width=800, height=450)"
   ]
  },
  {
   "cell_type": "markdown",
   "metadata": {},
   "source": [
    "> *Reading*: NLPP Chapter 3.1, 3.2, 3.3, 3.4, 3.5, 3.6, 3.7, 3.9, and 3.10\\. It's not important that you go in depth with everything here - the key think is that you *know that Chapter 3 of this book exists*, and that it's a great place to return to if you're ever in need of an explanation of regular expressions, unicode, or other topics that you forget as soon as you stop using them (and don't worry, I forget about those things too).\n",
    "> "
   ]
  },
  {
   "cell_type": "code",
   "execution_count": 4,
   "metadata": {},
   "outputs": [],
   "source": [
    "import json\n",
    "import urllib.request\n",
    "import matplotlib.pyplot as plt\n",
    "import re\n",
    "import os\n",
    "import networkx as nx\n",
    "from collections import Counter\n",
    "import matplotlib.pyplot as plt\n",
    "import seaborn as sns\n",
    "from collections import defaultdict\n",
    "import matplotlib.cm as cm\n",
    "import numpy as np  \n",
    "import community.community_louvain as community\n",
    "from fa2_modified import ForceAtlas2\n",
    "import pandas as pd"
   ]
  },
  {
   "cell_type": "markdown",
   "metadata": {},
   "source": [
    "#### This part is only for the network buliding part from week4"
   ]
  },
  {
   "cell_type": "code",
   "execution_count": 5,
   "metadata": {},
   "outputs": [],
   "source": [
    "# acquire the singer names list\n",
    "def wikiinfo(title):\n",
    "    baseurl =  \"https://en.wikipedia.org/w/api.php?\"\n",
    "    action = \"action=query\"\n",
    "    title = urllib.parse.urlencode({'titles': title})\n",
    "    content = \"prop=revisions&rvprop=content\"\n",
    "    dataformat =\"format=json\"\n",
    "    query = \"{}{}&{}&{}&{}\".format(baseurl, action, content, title, dataformat)\n",
    "    wikiresponse = urllib.request.urlopen(query)\n",
    "    wikidata = wikiresponse.read()\n",
    "    wikitext = wikidata.decode('utf-8')\n",
    "    wikijson = json.loads(wikitext)\n",
    "    return wikijson\n",
    "wikijson = wikiinfo(title=\"List_of_country_music_performers\")\n",
    "#the content include the singer names\n",
    "artist_content = wikijson['query']['pages']['328877']['revisions'][0]['*'] \n",
    "#extract the singer names\n",
    "singer_names = re.findall(r'\\*\\[\\[([^\\|\\(\\]]+)', artist_content)\n",
    "#remove the duplicate names and sort the names \n",
    "singer_names = sorted(set(singer_names)) "
   ]
  },
  {
   "cell_type": "code",
   "execution_count": 6,
   "metadata": {},
   "outputs": [
    {
     "name": "stdout",
     "output_type": "stream",
     "text": [
      "Graph has 2102 \n",
      " nodes and 12997 edges.\n"
     ]
    }
   ],
   "source": [
    "# Extract [[...]] from the content and clean by removing parentheses and text after '|'\n",
    "def get_connected_names(content):\n",
    "    matches = re.findall(r'\\[\\[(.*?)\\]\\]', content)\n",
    "    connected_names = [re.sub(r'\\(.*?\\)|\\|.*', '', match).strip() for match in matches]\n",
    "    return connected_names\n",
    "\n",
    "# fliter the connected names that are in the singer_names list\n",
    "def filter_connected_names(connected_names, singer_names):\n",
    "    filtered_names = [name for name in connected_names if name in singer_names]\n",
    "    return filtered_names\n",
    "\n",
    "# Count the number of words in the content\n",
    "def count_words(content):\n",
    "    return len(re.findall(r'\\b\\w+\\b', content))\n",
    "\n",
    "def get_connected_map(folder_path, singer_names):\n",
    "    # Create a undirected graph\n",
    "    G = nx.Graph()\n",
    "    folder_path = os.path.abspath(folder_path)\n",
    "    \n",
    "    # Iterate through all the .txt files in the folder\n",
    "    for filename in os.listdir(folder_path):\n",
    "        if filename.endswith(\".txt\"):\n",
    "            file_path = os.path.join(folder_path, filename)\n",
    "            \n",
    "            if os.path.exists(file_path):\n",
    "                \n",
    "                with open(file_path, 'r', encoding='utf-8') as file:\n",
    "                    content = file.read()\n",
    "                \n",
    "                # Use the file name as the node\n",
    "                filename_m = os.path.splitext(filename)[0]\n",
    "            \n",
    "                # Check if the content is empty and set content_length accordingly\n",
    "                content_length = count_words(content=content) if content.strip() else 0\n",
    "                \n",
    "                # Add the node with the content_length as an attribute\n",
    "                G.add_node(filename_m, content_length=content_length)\n",
    "                \n",
    "                # Get and filter the connected names\n",
    "                connected_names = get_connected_names(content)\n",
    "                filtered_names = filter_connected_names(connected_names, singer_names)\n",
    "                \n",
    "                # Add edges for each filtered name\n",
    "                for name in filtered_names:\n",
    "                    G.add_edge(filename_m, name)\n",
    "            else:\n",
    "                print(f\"File not found: {file_path}\")\n",
    "\n",
    "    return G\n",
    "\n",
    "\n",
    "folder_path = 'wiki_pages'  \n",
    "G = get_connected_map(folder_path, singer_names)\n",
    "G.remove_edges_from(nx.selfloop_edges(G))  # remove self-loop edges\n",
    "# the bascial information of the graph\n",
    "print(f\"Graph has {G.number_of_nodes()} \\n nodes and {G.number_of_edges()} edges.\")\n"
   ]
  },
  {
   "cell_type": "markdown",
   "metadata": {},
   "source": [
    "# Part 2: Community detection"
   ]
  },
  {
   "cell_type": "markdown",
   "metadata": {},
   "source": [
    "Before we get started on *network* communities, we'll grab some information on a different kind of communities based on information from Wikipedia. Specifically, the ``infoboxes``. An infobox is the little box usually displayed on the right when you open an artist's page. \n",
    "\n",
    "For example if you open the page for [Old 97's](https://en.wikipedia.org/wiki/Old_97%27s), you'll see that it contains info about their ***origin***, the ***genre***s of music they've been associated with, their ***year's active***, the record ***labels*** they've signed with, etc. All really interesting information if we want to understand the network of artists.\n",
    "\n",
    "Today, we'll be playing with **genre**. It's not easy to extract information from the infoboxes, but one of your amazing TAs (Aliaksandr) has done the job for you already (he even parsed the html to get data for more artists).\n",
    "\n",
    "> **You can download the genres [here](https://raw.githubusercontent.com/SocialComplexityLab/socialgraphs2024/refs/heads/main/files/artists_genres_dictionary.txt)**."
   ]
  },
  {
   "cell_type": "markdown",
   "metadata": {},
   "source": [
    "\n",
    "\n",
    "Now, let's watch a lecture to learn about communities. If you want all the details, I recommend you take a look at _Chapter 9_ in the _Network Science_ book ... but the video lecture below should be enough to get you started. \n",
    "\n",
    "**Note**: For this and the next exercise, work on the _undirected_ version of the network.\n",
    "\n",
    "> **_Video Lecture_**: Communities in networks. "
   ]
  },
  {
   "cell_type": "code",
   "execution_count": 7,
   "metadata": {
    "scrolled": true
   },
   "outputs": [
    {
     "data": {
      "image/jpeg": "[encoded data removed]",
      "text/html": [
       "\n",
       "        <iframe\n",
       "            width=\"800\"\n",
       "            height=\"450\"\n",
       "            src=\"https://www.youtube.com/embed/FSRoqXw28RI\"\n",
       "            frameborder=\"0\"\n",
       "            allowfullscreen\n",
       "            \n",
       "        ></iframe>\n",
       "        "
      ],
      "text/plain": [
       "<IPython.lib.display.YouTubeVideo at 0x1db9c00c730>"
      ]
     },
     "execution_count": 7,
     "metadata": {},
     "output_type": "execute_result"
    }
   ],
   "source": [
    "YouTubeVideo(\"FSRoqXw28RI\",width=800, height=450)"
   ]
  },
  {
   "cell_type": "markdown",
   "metadata": {},
   "source": [
    "*Exercise*: Use the concept of modularity to explore how _community-like_ the genres are.\n",
    "> \n",
    "> * Explain the concept of modularity in your own words.\n",
    "> * Work from the undirected version of the network, keeping only the nodes for which you have genre information in the file above. \n",
    "> * Now create your own partition of the network into genres.\n",
    ">      * **Each node is simply characterized by the *first genre* in its list of genres**.\n",
    ">      * Each community is the group of nodes that share the same genre.\n",
    ">      * That's all you need, now calculate the modularity of this division of the network into genres.\n",
    ">      * **Note**: Modularity is described in the _Network Science_ book, section 9.4.. Thus, use **equation 9.12** in the book to calculate the modularity _M_ of the partition described above. Are the genres good communities?\n",
    "> * Spoiling your findings a little bit, an issue is the following: Almost all artists have the genre `country` as their first genre in the list, so by definition the network won't have very high modularity. What happens to the modularity if you grab the first genre *that's not `country`* as the genre-assignment for all nodes that have more than one genre? \n",
    "\n",
    "<div class=\"alert alert-block alert-info\">\n",
    "Overall, it's OK to use an LLM to help with the code here. But do write your own explanation of modularity, and do try to implement a modularity on your own from eq 9.12 in the book.\n",
    "</div>"
   ]
  },
  {
   "cell_type": "markdown",
   "metadata": {},
   "source": [
    "modularity is the metrics to evaluate the quality of the community partition which offer a novel way to community detection.\n",
    "\n",
    "$M_c = \\frac{1}{2L} \\sum_{(i,j) \\in C_c} (A_{ij} - p_{ij}) = \\frac{L_c}{L}-(\\frac{k_c}{2L})^2$\n",
    "\n",
    "$M = \\sum_{c} M_c = \\sum^{(n_c)}_{c=1}\\frac{L_c}{L}-(\\frac{k_c}{2L})^2$\n"
   ]
  },
  {
   "cell_type": "markdown",
   "metadata": {},
   "source": [
    "From the result we can see that the modularity raised from 0.071 to 0.081, split the big community 'country' into other small communities increase the modularity therefore it a better partition for the network."
   ]
  },
  {
   "cell_type": "code",
   "execution_count": 8,
   "metadata": {},
   "outputs": [
    {
     "name": "stdout",
     "output_type": "stream",
     "text": [
      "Graph has 1602 nodes and 12121 edges.\n"
     ]
    }
   ],
   "source": [
    "#remove the node that not in geners\n",
    "# Load singer data from 'genres.txt'\n",
    "\n",
    "with open('genres.txt', 'r') as f:\n",
    "    genres_data = json.load(f)\n",
    "\n",
    "# Get the singer names from the keys of the JSON object\n",
    "singer_names_geners = [key for key in genres_data.keys()]\n",
    "\n",
    "# Remove nodes from the graph that are not in the singer names from 'genres.txt'\n",
    "nodes = list(G.nodes())\n",
    "for node in nodes:\n",
    "    if node not in singer_names_geners:\n",
    "        G.remove_node(node)\n",
    "\n",
    "print(f\"Graph has {G.number_of_nodes()} nodes and {G.number_of_edges()} edges.\")"
   ]
  },
  {
   "cell_type": "code",
   "execution_count": 9,
   "metadata": {},
   "outputs": [
    {
     "name": "stdout",
     "output_type": "stream",
     "text": [
      "modularity of the first genres(include contry): 0.07133312987832495\n"
     ]
    }
   ],
   "source": [
    "#create the graph for the genres community question\n",
    "G_genres = G\n",
    "# assign each nodes as their first genre\n",
    "node_genres = {}\n",
    "for artist, genres in genres_data.items():\n",
    "    node_genres[artist] = genres[0] if genres else 'unknown'\n",
    "nx.set_node_attributes(G_genres, node_genres, 'genre')\n",
    "\n",
    "# put the nodes into the corresponing communities\n",
    "genre_communities = defaultdict(list)\n",
    "for node, data in G_genres.nodes(data=True):\n",
    "    genre = data.get('genre', 'unknown')\n",
    "    genre_communities[genre].append(node)\n",
    "\n",
    "# calculate the modularity\n",
    "def calculate_modularity(G, communities):\n",
    "    node_to_index = {node: idx for idx, node in enumerate(G.nodes())}\n",
    "    A = nx.to_numpy_array(G, nodelist=G.nodes())  # adjacency matrix for whole network\n",
    "    L = G.number_of_edges()\n",
    "    degrees = dict(G.degree())\n",
    "    modularity = 0.0\n",
    "\n",
    "    for community in communities:\n",
    "        indices = [node_to_index[node] for node in community] # indices of nodes in community\n",
    "        subgraph = A[np.ix_(indices, indices)] # adjacency matrix for community\n",
    "        ki = np.array([degrees[node] for node in community]) # degree of nodes in community\n",
    "\n",
    "        # Sum over all pairs including i == j\n",
    "        sum_Aij = np.sum(subgraph)\n",
    "        sum_kikj = np.sum(np.outer(ki, ki)) / (2 * L)\n",
    "\n",
    "        modularity += (sum_Aij - sum_kikj) # sum over all communities\n",
    "\n",
    "    modularity /= (2 * L) # divide by 2L\n",
    "    return modularity\n",
    "    \n",
    "M = calculate_modularity(G_genres, genre_communities.values())\n",
    "print(\"modularity of the first genres(include contry):\", M)"
   ]
  },
  {
   "cell_type": "code",
   "execution_count": 10,
   "metadata": {},
   "outputs": [
    {
     "name": "stdout",
     "output_type": "stream",
     "text": [
      "modularity of the first genres(not include contry): 0.08174863937109242\n"
     ]
    }
   ],
   "source": [
    "#create the graph for the genres community question\n",
    "G_genres_1 = G\n",
    "# assign each nodes as their first genre, if the first genre is country, assign the second genre as the genre\n",
    "node_genres = {}\n",
    "for artist, genres in genres_data.items():\n",
    "    if genres and genres[0] == 'country' and len(genres) > 1:\n",
    "        non_country_genre = next((g for g in genres if g != 'country'), 'country')\n",
    "        node_genres[artist] = non_country_genre\n",
    "    else:\n",
    "        node_genres[artist] = genres[0] if genres else 'unknown'\n",
    "nx.set_node_attributes(G_genres_1, node_genres, 'genre')\n",
    "\n",
    "# put the nodes into the corresponing communities\n",
    "genre_communities = defaultdict(list)\n",
    "for node, data in G.nodes(data=True):\n",
    "    genre = data.get('genre', 'unknown')\n",
    "    genre_communities[genre].append(node)\n",
    "\n",
    "# calculate the modularity\n",
    "M = calculate_modularity(G_genres_1, genre_communities.values())\n",
    "print(\"modularity of the first genres(not include contry):\", M)"
   ]
  },
  {
   "cell_type": "markdown",
   "metadata": {},
   "source": [
    "*Exercise*: Community detection finding structral communities in the network\n",
    "> * Again, work only with the subnetwork of nodes that have a genre according to Aliaksandr's list (that you downloaded above). \n",
    "> * Use [the Python Louvain-algorithm implementation](http://perso.crans.org/aynaud/communities/) to find communities each network. Report the value of modularity found by the algorithm. Is it higher or lower than what you found above for the genres as communities? What does this comparison reveal about them?\n",
    ">     * **Note**: This implementation is also available as Anaconda package. Install with `conda` as expained [here](https://anaconda.org/auto/python-louvain). \n",
    ">     * **Note**: You can also try the *Infomap* algorithm instead if you're curious. Go to [this page]. (http://www.mapequation.org/code.html) and search for 'python'. It's harder to install, but a better community detection algorithm.\n",
    "> * What is the modularity of this partitioning of the network? Is it more community-like than the genres?\n",
    "> * Visualize the network, using the Force Atlas algorithm (see Lecture 5, exercise 2).\n",
    ">     * This time assign each node a different color based on its structural _community_.\n",
    ">     * **Note**: If there's a lot of small communities, it's OK to only color the 5-10 largest communities (you can make the remaing nodes light gray or some netural color)\n",
    ">     * Describe the structure you observe.\n",
    "\n",
    "<div class=\"alert alert-block alert-info\">\n",
    "It's OK to use an LLM to help with the code here. \n",
    "</div>"
   ]
  },
  {
   "cell_type": "code",
   "execution_count": 11,
   "metadata": {},
   "outputs": [
    {
     "name": "stdout",
     "output_type": "stream",
     "text": [
      "modularity of Louvain-algorithm: 0.36777053362479717\n"
     ]
    }
   ],
   "source": [
    "# create a graph for Louvain community detection\n",
    "G_Lou = G\n",
    "\n",
    "# apply Louvain-algorithm\n",
    "partition = community.best_partition(G_Lou)\n",
    "\n",
    "# adjust the format of the partition for calculation of the modularity\n",
    "result = defaultdict(list)\n",
    "for key, value in partition.items():\n",
    "    result[value].append(key)\n",
    "\n",
    "M = calculate_modularity(G_Lou, result.values())\n",
    "print(\"modularity of Louvain-algorithm:\", M)"
   ]
  },
  {
   "cell_type": "code",
   "execution_count": 19,
   "metadata": {},
   "outputs": [
    {
     "name": "stderr",
     "output_type": "stream",
     "text": [
      "100%|██████████| 2000/2000 [02:58<00:00, 11.21it/s]\n",
      "C:\\Users\\wuqiu\\AppData\\Local\\Temp\\ipykernel_22708\\388149488.py:30: MatplotlibDeprecationWarning: The get_cmap function was deprecated in Matplotlib 3.7 and will be removed two minor releases later. Use ``matplotlib.colormaps[name]`` or ``matplotlib.colormaps.get_cmap(obj)`` instead.\n",
      "  cmap = plt.cm.get_cmap('tab20', max(partition.values()) + 1)  # 动态调整色图范围\n"
     ]
    },
    {
     "name": "stdout",
     "output_type": "stream",
     "text": [
      "BarnesHut Approximation  took  19.05  seconds\n",
      "Repulsion forces  took  152.85  seconds\n",
      "Gravitational forces  took  0.47  seconds\n",
      "Attraction forces  took  0.73  seconds\n",
      "AdjustSpeedAndApplyForces step  took  1.94  seconds\n"
     ]
    },
    {
     "data": {
      "image/png": "[encoded data removed]",
      "text/plain": [
       "<Figure size 1600x1600 with 2 Axes>"
      ]
     },
     "metadata": {},
     "output_type": "display_data"
    }
   ],
   "source": [
    "def apply_force_atlas_layout(G):\n",
    "    forceatlas2 = ForceAtlas2(\n",
    "        # Force Atlas 2 settings\n",
    "        outboundAttractionDistribution=True,\n",
    "        linLogMode=False,\n",
    "        adjustSizes=False,\n",
    "        edgeWeightInfluence=1.0,\n",
    "        jitterTolerance=1.0,\n",
    "        barnesHutOptimize=True,\n",
    "        barnesHutTheta=1.2,\n",
    "        multiThreaded=False,\n",
    "        scalingRatio=2.0,\n",
    "        strongGravityMode=False,\n",
    "        gravity=1.0,\n",
    "        verbose=True\n",
    "    )\n",
    "    # Get node positions from Force Atlas 2\n",
    "    positions = forceatlas2.forceatlas2_networkx_layout(G, pos=None, iterations=2000)\n",
    "    return positions\n",
    "\n",
    "# Visualize the network using NetworkX's draw function\n",
    "def visualize_graph(G, positions, partition):\n",
    "    fig, ax = plt.subplots(figsize=(16, 16))  # 增加图像尺寸\n",
    "\n",
    "    # 用社区作为节点颜色\n",
    "    node_colors = [partition[node] for node in G.nodes()]\n",
    "    node_sizes = [max(nx.degree(G, node)/100, 50) for node in G.nodes()]  # 增大节点大小以提高可见性\n",
    "\n",
    "    # 绘制图形\n",
    "    cmap = plt.cm.get_cmap('tab20', max(partition.values()) + 1)  # 动态调整色图范围\n",
    "    nodes = nx.draw(\n",
    "        G, \n",
    "        pos=positions, \n",
    "        node_color=node_colors, \n",
    "        node_size=node_sizes, \n",
    "        cmap=cmap,  # 用社区着色\n",
    "        with_labels=False, \n",
    "        edge_color='gray', \n",
    "        alpha=0.8,  # 增加节点透明度\n",
    "        ax=ax\n",
    "    )\n",
    "\n",
    "    # 添加基于社区的颜色条\n",
    "    sm = plt.cm.ScalarMappable(cmap=cmap, norm=plt.Normalize(vmin=min(node_colors), vmax=max(node_colors)))\n",
    "    sm.set_array([])\n",
    "    cbar = plt.colorbar(sm, ax=ax, label='Community Index', orientation='vertical')\n",
    "    cbar.set_ticks(range(max(partition.values()) + 1))  # 设置颜色条刻度\n",
    "    cbar.set_ticklabels(range(max(partition.values()) + 1))\n",
    "\n",
    "    plt.title('Improved Network Visualization with Force Atlas 2 Layout and Community Coloring')\n",
    "    plt.tight_layout()  # 减少空白区域\n",
    "    plt.show()\n",
    "\n",
    "location = apply_force_atlas_layout(G_Lou)\n",
    "visualize_graph(G_Lou, location, partition)\n"
   ]
  },
  {
   "cell_type": "markdown",
   "metadata": {},
   "source": [
    "Ok, now in this final community exercise, we want to check if the genres align with the communities.\n",
    "\n",
    "\n",
    "> *Exercise*: Communities versus genres.\n",
    "> * Compare the communities found by your algorithm with the music genres by creating a matrix $D$ with dimension ($G \\times C$), where G is the 7 most common genres and C is the 7 most common communities. We set entry $D(i,j)$ to be the number of nodes that genre $i$ has in common with community $j$. The matrix $D$ is what we call a confusion matrix.\n",
    "> * Use the confusion matrix to explain how well the communities you've detected correspond to the genres.\n",
    ">     * **Note**: This time, use all the genres associate with each node\n",
    ">     * **Note**: If a node is not characterized by any of the 7 most popular genres, just ignore it.\n",
    ">     * **Note**: If a node is not part of by any of the 7 largest communiteis, just ignore it.\n",
    "\n",
    "<div class=\"alert alert-block alert-info\">\n",
    "Again, you may use an LLM to help with the code for this assignment. The main thing is you get the D matrix right and interpret it.\n",
    "</div>"
   ]
  },
  {
   "cell_type": "code",
   "execution_count": null,
   "metadata": {},
   "outputs": [
    {
     "name": "stdout",
     "output_type": "stream",
     "text": [
      "Confusion Matrix D:\n",
      "              country   pop  country pop  bluegrass  folk  americana  \\\n",
      "country         645.0  73.0         54.0       55.0  61.0       38.0   \n",
      "folk              0.0   8.0          1.0       12.0  65.0       20.0   \n",
      "country rock      0.0   4.0         13.0        3.0   3.0        7.0   \n",
      "pop               0.0  84.0          6.0        2.0   6.0        2.0   \n",
      "americana         0.0   2.0          0.0        4.0  13.0       61.0   \n",
      "bluegrass         0.0   1.0          2.0       70.0   8.0        9.0   \n",
      "rock              0.0  13.0          2.0        3.0   7.0        4.0   \n",
      "\n",
      "              country rock  \n",
      "country               34.0  \n",
      "folk                   3.0  \n",
      "country rock          59.0  \n",
      "pop                    5.0  \n",
      "americana              1.0  \n",
      "bluegrass              1.0  \n",
      "rock                   2.0  \n"
     ]
    }
   ],
   "source": [
    "# Identify the 7 most common genres\n",
    "all_genres = [genre for genres in genres_data.values() for genre in genres]\n",
    "most_common_genres = [genre for genre, _ in Counter(all_genres).most_common(7)]\n",
    "\n",
    "# Identify the 7 largest communities\n",
    "community_sizes = {community: len(nodes) for community, nodes in genre_communities.items()}\n",
    "largest_communities = sorted(community_sizes, key=community_sizes.get, reverse=True)[:7]\n",
    "\n",
    "# Build the confusion matrix\n",
    "D = np.zeros((7, 7))\n",
    "\n",
    "# Map genres and communities to their indices for the matrix\n",
    "genre_to_index = {genre: i for i, genre in enumerate(most_common_genres)} #[(0, 'country'), (1, 'folk'), (2, 'country rock'), (3, 'pop'), (4, 'americana'), (5, 'bluegrass'), (6, 'rock')]\n",
    "community_to_index = {community: j for j, community in enumerate(largest_communities)} #[(0, 'country'), (1, 'pop'), (2, 'country pop'), (3, 'bluegrass'), (4, 'folk'), (5, 'americana'), (6, 'country rock')]\n",
    "\n",
    "# Populate the matrix\n",
    "for node, data in G_genres.nodes(data=True):\n",
    "    # Get the genres and community of the node\n",
    "    node_genres = genres_data.get(node, [])  #['neotraditional country', 'bluegrass']\n",
    "    node_community = data.get('genre') # community of the node\n",
    "\n",
    "    # Only consider nodes that match the 7 most common genres and largest communities\n",
    "    if node_community in largest_communities:\n",
    "        for genre in node_genres:\n",
    "            if genre in most_common_genres:\n",
    "                i = genre_to_index[genre]\n",
    "                j = community_to_index[node_community]\n",
    "                D[i, j] += 1\n",
    "\n",
    "# Convert the matrix to a DataFrame for better readability\n",
    "D_df = pd.DataFrame(D, index=most_common_genres, columns=largest_communities)\n",
    "\n",
    "# Print the confusion matrix to see the values\n",
    "print(\"Confusion Matrix D:\")\n",
    "print(D_df)\n"
   ]
  },
  {
   "cell_type": "code",
   "execution_count": 34,
   "metadata": {},
   "outputs": [
    {
     "data": {
      "text/plain": [
       "'neotraditional country'"
      ]
     },
     "execution_count": 34,
     "metadata": {},
     "output_type": "execute_result"
    }
   ],
   "source": [
    "data.get('genre')"
   ]
  },
  {
   "cell_type": "markdown",
   "metadata": {},
   "source": [
    "# Part 3: Words that characterize pages or groups of pages\n",
    "\n",
    "Now, we'll begin to play around with how far we can get with simple strategies for looking at text. \n",
    "\n",
    "The video is basically just me talking about a fun paper, which shows you how little is needed in order to reveal something highly interesting about humans that produce text. But it's important. Don't miss this one!"
   ]
  },
  {
   "cell_type": "markdown",
   "metadata": {},
   "source": [
    "> **Video lecture**: Simple methods reveal a lot. I talk about the paper: [Personality, Gender, and Age in the Language of Social Media: The Open-Vocabulary Approach](http://journals.plos.org/plosone/article?id=10.1371/journal.pone.0073791).  "
   ]
  },
  {
   "cell_type": "code",
   "execution_count": 14,
   "metadata": {},
   "outputs": [
    {
     "data": {
      "image/jpeg": "[encoded data removed]",
      "text/html": [
       "\n",
       "        <iframe\n",
       "            width=\"800\"\n",
       "            height=\"450\"\n",
       "            src=\"https://www.youtube.com/embed/wkYvdfkVmlI\"\n",
       "            frameborder=\"0\"\n",
       "            allowfullscreen\n",
       "            \n",
       "        ></iframe>\n",
       "        "
      ],
      "text/plain": [
       "<IPython.lib.display.YouTubeVideo at 0x1db8d3b55d0>"
      ]
     },
     "execution_count": 14,
     "metadata": {},
     "output_type": "execute_result"
    }
   ],
   "source": [
    "YouTubeVideo(\"wkYvdfkVmlI\",width=800, height=450)"
   ]
  },
  {
   "cell_type": "markdown",
   "metadata": {},
   "source": [
    "_Exercise_: Comparing in the different genres. \n",
    "\n",
    "*Setup*. You'll need to go to your archives and find the wikipedia pages of all the country artists. \n",
    "\n",
    "Once you have the texts ready, you will want to aggregate the text into 15 long lists, one for each of the top 15 genres (let's call them 15 *documents*). Each document contains on all the text in that genre (so for the country genre it's a looooong big doc). In each list, you should keep all the words (or *tokens* to be more precise) that occur on the pages, and a count of how frequently each word occurs. So the format should be\n",
    "\n",
    "```\n",
    "word0 count0\n",
    "word1 count1\n",
    "word2 count2\n",
    "\n",
    "...\n",
    "\n",
    "wordN countN\n",
    "```\n",
    "This list is called a ***Term Frequency*** (or TF) list for each community. Let's build our own TF lists. Before you start counting, I am going to ask you do do a few things\n",
    "\n",
    "> *Action items*\n",
    "> * Tokenize the pages into individual strings\n",
    "> * Remove all punctuation from your list of tokens\n",
    "> * Set everything to lower case\n",
    "> * (Optional) Lemmatize your words\n",
    "> * It's OK to filter out rare words (e.g. words that only appear less than 5 times).\n",
    "\n",
    "If you are confused by the instructions for cleaning, go back and have a  look Chapter 3 again. \n",
    "\n",
    "> *Action item*: \n",
    "> * Create your TF list for each of the 15 most popular genres.\n",
    "> * List the top 15 words for each genre.\n",
    "> * Comment on the top 15 words for each genre.\n",
    "\n",
    "<div class=\"alert alert-block alert-info\">\n",
    "It's OK to use an LLM to help with the code here, but write your own comments.\n",
    "</div>"
   ]
  },
  {
   "cell_type": "markdown",
   "metadata": {},
   "source": [
    "# Part 4: Visualization\n",
    "\n",
    "**Step 1: Install the software**\n",
    "\n",
    "First you must set up your system. The most difficult thing about creating the wordcloud is installing the `WordCloud` module. It's available on GitHub, check out the page [**here**](https://github.com/amueller/word_cloud). \n",
    "\n",
    "If you're lucky, you can simply install using conda (and all dependencies, etc will be automatically fixed): \n",
    "\n",
    "    conda install -c conda-forge wordcloud\n",
    " \n",
    "If you can't get that to work you can refer here https://anaconda.org/conda-forge/wordcloud. \n",
    "Also, maybe the comments below are helpful: \n",
    " * The module depends on the Python library PIL. If my experience generalizes, your life will be easier if you use `conda` to install that before you do anything else.\n",
    " * On my system, the module needed the `gcc` compiler installed. If you're not already a programmer, you may have to install that. On Mac you get it by installing the [_command line tools_](http://osxdaily.com/2014/02/12/install-command-line-tools-mac-os-x/). On linux, it's probably already installed. And on Windows I'm not sure, but we'll figure it out during the exercises. \n",
    " * Once that's all set up, you can use `pip` to install the `WordCloud` library, as [detailed on the GitHub page](https://github.com/amueller/word_cloud). But don't forget to use Anaconda's `pip` just as when you installed the communities library a few weeks ago. \n",
    " * There are examples of how to use the module online, see [here](http://sebastianraschka.com/Articles/2014_twitter_wordcloud.html) and [here](https://bioinfoexpert.com/2015/05/26/generating-word-clouds-in-python/). If you're interested, you can read about how the package was put together [here](http://peekaboo-vision.blogspot.dk/2012/11/a-wordcloud-in-python.html). "
   ]
  },
  {
   "cell_type": "markdown",
   "metadata": {},
   "source": [
    "**Step 2: Draw some wordclouds**\n",
    "\n",
    "> *Action items*\n",
    "> * Get your lists ready for the word-cloud software\n",
    ">    - The package needs a single string to work on. The way that I converted my lists to a string was to simply combine all words together in one long string (separated by spaces), repeating each word according to its score (rounded up to the nearest integer value). \n",
    ">    - The `wordcloud` package looks for collocations in real texts, which is a problem when you make the list as above. The recommended fix is to simply set `collocations = False` as an option when you run the package.\n",
    "> * Now, create a word-cloud for each genre. Feel free to make it as fancy or non-fancy as you like. Comment on the results. (If you'd like, you can remove stopwords/wiki-syntax - I did a bit of that for my own wordclouds.)\n",
    "\n",
    "<div class=\"alert alert-block alert-info\">\n",
    "As above, it's OK to use an LLM to help get the code going. But write your own answers to the questions / write your own comments.\n",
    "</div>"
   ]
  },
  {
   "cell_type": "markdown",
   "metadata": {},
   "source": [
    "# Part 5: Understanding TF-IDF\n",
    "\n",
    "Now we jump back into the NLP work. In this last part, we'll be creating word-clouds again. But this time, we'll be using the method from the paper I discuss above: TF-IDF. Historically people have had a hard time grasping the idea behind TF-IDF, so here's a little exercise designed to make you study it a bit more carefully.\n",
    "\n",
    "*Exercise 4*: Wrap your brain around TF-IDF\n",
    "\n",
    "First, let's learn about TF-IDF the way wikipedia explains it. Check out [the wikipedia page for TF-IDF](https://en.wikipedia.org/wiki/Tf%E2%80%93idf) and ***read the first part very carefully***. The idea is that the term frequency doesn't capture just what's special about a text. It also captures words that are just frequent in all text. \n",
    "\n",
    "This is clear from the top counts in one of my lists:\n",
    "\n",
    "```\n",
    "of \n",
    "in \n",
    "and \n",
    "the \n",
    "to \n",
    "a \n",
    "is\n",
    "by\n",
    "was\n",
    "as\n",
    "ref\n",
    "with\n",
    "first\n",
    " ```\n",
    " \n",
    "You can fix some of this by removing stop-words (as is described in the book), but it's not enough. ***We want to pull out what's special about a particular text.*** \n",
    "\n",
    "To focus on just what's special, TF-IDF has two components: The *term frequency* (TF) and a *weight* (IDF). The weight draws on a larger corpus of text emphasize what's special about the text we're interested in.\n",
    "\n",
    "Further, there are some extra things going on. For example, there are multiple definitions of TF. Above, we just looked at the raw counts.\n",
    "\n",
    "> *Action items*\n",
    ">   * Pick one of the alternative term frequency definitions. Explain why it might sometimes be prefereable to the raw count.\n",
    ">   * What does IDF stand for? Answer in your own words.\n",
    ">   * How does IDF draw on a larger corpus to extract what's special a certain text? Answer in your own words.\n",
    "\n",
    "There are also multiple versions of IDF. Let's think about those for a moment.\n",
    "\n",
    "> *Action items*\n",
    ">   * All of the IDF versions take the log of the calculated weight. Why do you think that is?\n",
    ">   * Explain why using IDF makes stopword removal less important.\n",
    "\n",
    "<div class=\"alert alert-block alert-info\">\n",
    "The point of this exercise is to understand TF-IDF. So I encourage you to ask questions to an LLM to really understand the concept. Perhaps ask it to explain TF-IDF at the level of a high-school student. Once you've done that, then answer the questions in the action items on your own.\n",
    "</div>"
   ]
  },
  {
   "cell_type": "markdown",
   "metadata": {},
   "source": [
    "# Part 6: Genres and TF-IDF word-clouds\n",
    "\n",
    "**But wait a minute!** Now we have all of the ingredients for a wonderful cocktail 😎\n",
    "\n",
    "* We have genres - descriptions of related nodes in the network. \n",
    "* And you're an expert on TF-IDF, so you can extract words that characterize a text relative to everything that's going on.\n",
    "* Finally, you can create nice WordCouds!\n",
    "\n",
    "So let's put it all together. Let's use TF-IDF and wordcoulds to build a deeper understanding of the top communities.\n",
    "\n",
    "Thus, the aim of this final part is to create genre wordclouds for the top 15 genres based on TF-IDF. \n",
    "\n",
    "For each genre, create a single document for each community consisting of all the cleaned text from all members of the community. So in the end, you should have 15 documents in total.\n",
    "\n",
    "_Exercise_: Genre Word-clouds\n",
    "\n",
    "> * Now that we have the community-texts, let's start by grabbing the TF lists from the exercise above (you may modify to use whichever version of TF you like). \n",
    "> * Next, calculate IDF for every word in every list (use whichever version of IDF you like). \n",
    ">   * Which base logarithm did you use? Is that important?\n",
    "> * We're now ready to calculate TF-IDFs. Do that for each genre. \n",
    ">   * List the 10 top words for each genre accourding to TF-IDF. Are these 10 words more descriptive of the genre than just the TF? Justify your answer.\n",
    "> * Create a wordcloud for each genre. \n",
    "> * Explain your creation. Do the wordclouds/TF-IDF lists enable you to understand the communities you have found (or is it just gibberish)? Justify your answer.\n",
    "\n",
    "<div class=\"alert alert-block alert-info\">\n",
    "Overall, it's OK to use an LLM to help with the code. But do write your own answers to the questions.\n",
    "</div>"
   ]
  },
  {
   "cell_type": "markdown",
   "metadata": {},
   "source": [
    "*Exercise*: Community Word-clouds\n",
    "> * Redo the exercise above but for the structural communities.\n",
    "> * Do the word clouds seem more meaningful than for the genres? Add nuance to your answer by considering the confusion matrix $D$ that you calculated above.\n",
    "\n",
    "<div class=\"alert alert-block alert-info\">\n",
    "Since this is optional, you can do wat you want with LLMs. Maybe you can get one to solve the whole exercise?\n",
    "</div>"
   ]
  },
  {
   "cell_type": "code",
   "execution_count": null,
   "metadata": {},
   "outputs": [],
   "source": []
  }
 ],
 "metadata": {
  "anaconda-cloud": {},
  "kernelspec": {
   "display_name": "base",
   "language": "python",
   "name": "python3"
  },
  "language_info": {
   "codemirror_mode": {
    "name": "ipython",
    "version": 3
   },
   "file_extension": ".py",
   "mimetype": "text/x-python",
   "name": "python",
   "nbconvert_exporter": "python",
   "pygments_lexer": "ipython3",
   "version": "3.10.9"
  }
 },
 "nbformat": 4,
 "nbformat_minor": 4
}
